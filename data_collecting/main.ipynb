{
 "cells": [
  {
   "cell_type": "markdown",
   "id": "3771195b",
   "metadata": {},
   "source": [
    "# **Data Collecting**"
   ]
  },
  {
   "cell_type": "markdown",
   "id": "82d728db",
   "metadata": {},
   "source": [
    "## **NOTE**\n",
    "\n",
    "This script collects *publicly available* product data from **tiki.vn**,\n",
    "specifically from category IDs: \n",
    "- 8371: Đồng hồ và trang sức\n",
    "- 1815: Thiết bị số - Phụ kiện số\n",
    "- 915: Thời trang nam\n",
    "- 931: Thời trang nữ\n",
    "\n",
    "Only general product information is collected — including **images, names,\n",
    "and descriptions** — to serve **educational and demo purposes only**.\n",
    "\n",
    "⚠️ No personal or user-related data is collected, stored, or used.\n",
    "The dataset is solely intended for learning, research, and\n",
    "demonstrating product display functionality on our website."
   ]
  },
  {
   "cell_type": "markdown",
   "id": "096d88df",
   "metadata": {},
   "source": [
    "### **Import libraries**"
   ]
  },
  {
   "cell_type": "code",
   "execution_count": 15,
   "id": "929a9e1e",
   "metadata": {},
   "outputs": [],
   "source": [
    "import requests, csv, time\n",
    "import os"
   ]
  },
  {
   "cell_type": "markdown",
   "id": "8a126657",
   "metadata": {},
   "source": [
    "### **Variable Cofig**"
   ]
  },
  {
   "cell_type": "code",
   "execution_count": null,
   "id": "7d979ea0",
   "metadata": {},
   "outputs": [],
   "source": [
    "CATEGORY_ID_LIST = [8371, 1815, 915, 931] \n",
    "MAX_PRODUCTS = 2\n",
    "\n",
    "headers = {\n",
    "    \"User-Agent\": \"Mozilla/5.0\"\n",
    "}\n",
    "\n",
    "os.makedirs(\"data\", exist_ok=True)"
   ]
  },
  {
   "cell_type": "markdown",
   "id": "03ea4093",
   "metadata": {},
   "source": [
    "### **Collecting data**"
   ]
  },
  {
   "cell_type": "code",
   "execution_count": 24,
   "id": "e74bbcfe",
   "metadata": {},
   "outputs": [
    {
     "name": "stdout",
     "output_type": "stream",
     "text": [
      "Collecting products from category: Đồng hồ và Trang sức (ID: 8371)\n",
      "GET 1. Nhẫn bạc phỉ thủy lục đế vương & lam băng type A hạt 4mm mện (3 ảnh)\n",
      "GET 2. Pin Tiểu 2A 3A Con Ó Chính Hãng, Bin Đồng Hồ, Pin Xe Đồ Chơi (5 ảnh)\n",
      "Collecting products from category: Thiết Bị Số - Phụ Kiện Số (ID: 1815)\n",
      "GET 1. Bộ Sạc Siêu Nhanh 25W Type C dành cho Samsung và các dòng đi (3 ảnh)\n",
      "GET 2. Bộ Sạc Siêu Nhanh 2.0 Type C 45W dành cho Samsung S20/S21/S2 (2 ảnh)\n",
      "Collecting products from category: Thời trang nam (ID: 915)\n",
      "GET 1. Quần lót nam, quần sịp nam tam giác cao cấp ARES 03 chất thu (5 ảnh)\n",
      "GET 2. Combo 5 quần boxer nam, quần lót nam cao cấp chất thun lạnh  (3 ảnh)\n",
      "Collecting products from category: Thời trang nữ (ID: 931)\n",
      "GET 1. Áo Thun Unisex - Oversize Chất 100% Cotton 2 chiều Dày 250gs (1 ảnh)\n",
      "GET 2. Quần Short Thể Thao Nữ Đa Năng Hàng Việt Nam Nhiều Màu Nhiều (5 ảnh)\n"
     ]
    }
   ],
   "source": [
    "all_categories = []\n",
    "\n",
    "for CATEGORY_ID in CATEGORY_ID_LIST:\n",
    "    items = []\n",
    "    page = 1\n",
    "\n",
    "    cat_info = requests.get(f\"https://tiki.vn/api/v2/categories/{CATEGORY_ID}\", headers=headers).json()\n",
    "    category_name = cat_info.get(\"name\", f\"Category_{CATEGORY_ID}\")\n",
    "\n",
    "    print(f\"Collecting products from category: {category_name} (ID: {CATEGORY_ID})\")\n",
    "    while len(items) < MAX_PRODUCTS:\n",
    "        LIST_API = f\"https://tiki.vn/api/v2/products?category={CATEGORY_ID}&page={page}\"\n",
    "        resp = requests.get(LIST_API, headers=headers).json()\n",
    "        data = resp.get(\"data\", [])\n",
    "        if not data:\n",
    "            break\n",
    "\n",
    "        for p in data:\n",
    "            pid = p[\"id\"]\n",
    "            detail = requests.get(f\"https://tiki.vn/api/v2/products/{pid}\", headers=headers).json()\n",
    "            desc = detail.get(\"description\", \"\")\n",
    "\n",
    "            image_list = [img[\"base_url\"] for img in detail.get(\"images\", []) if \"base_url\" in img][:5]\n",
    "            if not image_list:\n",
    "                image_list = [p.get(\"thumbnail_url\")]\n",
    "\n",
    "            items.append({\n",
    "                \"id\": pid,\n",
    "                \"name\": p.get(\"name\"),\n",
    "                \"price\": p.get(\"price\"),\n",
    "                \"images\": image_list,\n",
    "                \"desc_html\": desc\n",
    "            })\n",
    "\n",
    "            print(f\"GET {len(items)}. {p.get('name')[:60]} ({len(image_list)} ảnh)\")\n",
    "            if len(items) >= MAX_PRODUCTS:\n",
    "                break\n",
    "            time.sleep(0.3)\n",
    "\n",
    "        page += 1\n",
    "        time.sleep(0.5)\n",
    "\n",
    "    all_categories.append({\n",
    "        \"category_name\": category_name,\n",
    "        \"products\": items\n",
    "    })\n",
    "\n",
    "with open(\"data/tiki_products.csv\", \"w\", newline=\"\", encoding=\"utf-8\") as f:\n",
    "    writer = csv.DictWriter(\n",
    "        f,\n",
    "        fieldnames=[\"category_name\", \"id\", \"name\", \"price\", \"images\", \"desc_html\"]\n",
    "    )\n",
    "    writer.writeheader()\n",
    "\n",
    "    for cat in all_categories:\n",
    "        category_name = cat[\"category_name\"]\n",
    "        for p in cat[\"products\"]:\n",
    "            writer.writerow({\n",
    "                \"category_name\": category_name,\n",
    "                \"id\": p.get(\"id\"),\n",
    "                \"name\": p.get(\"name\"),\n",
    "                \"price\": p.get(\"price\"),\n",
    "                \"images\": \", \".join(p.get(\"images\", [])),\n",
    "                \"desc_html\": p.get(\"desc_html\", \"\").replace(\"\\n\", \" \")\n",
    "            })"
   ]
  }
 ],
 "metadata": {
  "kernelspec": {
   "display_name": "base",
   "language": "python",
   "name": "python3"
  },
  "language_info": {
   "codemirror_mode": {
    "name": "ipython",
    "version": 3
   },
   "file_extension": ".py",
   "mimetype": "text/x-python",
   "name": "python",
   "nbconvert_exporter": "python",
   "pygments_lexer": "ipython3",
   "version": "3.12.7"
  }
 },
 "nbformat": 4,
 "nbformat_minor": 5
}
